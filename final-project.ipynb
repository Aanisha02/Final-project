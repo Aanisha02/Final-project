{
 "cells": [
  {
   "cell_type": "markdown",
   "id": "ba463c7f",
   "metadata": {},
   "source": [
    "Projet Group 5:\n",
    "\n",
    "Aanisha Newaz (100788588)\n",
    "Japnit Ahuja (100790042) \n",
    "Islam Nuryyev(100778667) \n",
    "Jessica Patel (100785837) \n",
    "\n",
    "\n",
    "# 1. Introduction\n",
    "\n",
    "Having to choose a university after high school is difficult for most students because of the many options available. Everyone wants to get into the best universities in their country or the best countries in the world. The dataset World University Ranking helps us see what factors have the most impact on the university’s ranking which will help us in our future decision making when choosing a university for masters or PhD. It also allows us to see the quality of education and the influence of the institution overall. \n",
    "\n",
    "We found many datasets but some were particularly eye-catching and intriguing. A dataset called Data Science and Stem salaries was one that we found interesting as it pertains to our field. Another interesting dataset was Factors Affecting Campus Placement. As university students it is important to know what factors affect our campus placement. However we chose the World University Ranking dataset as it also had missing values in its data and we think it will be interesting to deal with missing data in our preprocessing. \n",
    "\n",
    "Questions we are interested in studying. \n",
    "\n",
    "1. What effect does national rank have on the world ranking?  \n",
    "2. What impact does quality of education have on publications and patents?\n",
    "3. What attribute has the greatest effect/best relation with world ranking?\n",
    "4. Are there certain attributes or qualities of an institution that have a greater impact on it’s ranking based on the year it was conducted (2012 - 2015)?\n",
    "5. Are there different countries that value different qualities more in an institution? What countries (if any) do not align with the world wide trend in terms of the desired qualities?"
   ]
  },
  {
   "cell_type": "code",
   "execution_count": null,
   "id": "49d69207",
   "metadata": {},
   "outputs": [],
   "source": []
  },
  {
   "cell_type": "markdown",
   "id": "2f3fd5fb",
   "metadata": {},
   "source": [
    "# 2. Description of data: Describe the dataset, how was it collect, how you accessed it, references/credit to source. "
   ]
  },
  {
   "cell_type": "code",
   "execution_count": null,
   "id": "a9e44980",
   "metadata": {},
   "outputs": [],
   "source": []
  },
  {
   "cell_type": "markdown",
   "id": "c6903025",
   "metadata": {},
   "source": [
    "# 3. Analysis of the data: Provide a detailed, well-organized description of data quality, including the features, any data that should be cleaned or pre-processed before you EDA."
   ]
  },
  {
   "cell_type": "code",
   "execution_count": null,
   "id": "5020a817",
   "metadata": {},
   "outputs": [],
   "source": []
  },
  {
   "attachments": {},
   "cell_type": "markdown",
   "id": "baecec3b",
   "metadata": {},
   "source": [
    "# 4.\tExploratory Data Analysis: Provide a detailed, well-organized description of your findings, including textual description, graphs, and code. Your focus should be on both the results and the process. Include, as reasonable and relevant, approaches that didn’t work, challenges, the data cleaning process, etc."
   ]
  },
  {
   "cell_type": "code",
   "execution_count": null,
   "id": "a755c902",
   "metadata": {},
   "outputs": [],
   "source": []
  },
  {
   "cell_type": "markdown",
   "id": "62e49579",
   "metadata": {},
   "source": [
    "# 5.\tPotential Data Science: Based on your data analysis and findings. Describe any potential ideas if you were to pursue a data science or machine learning project using this dataset. If you don’t find any potential, explain your rationale."
   ]
  },
  {
   "cell_type": "code",
   "execution_count": null,
   "id": "628a4def",
   "metadata": {},
   "outputs": [],
   "source": []
  },
  {
   "attachments": {},
   "cell_type": "markdown",
   "id": "c17600f9",
   "metadata": {},
   "source": [
    "# 6.\tConclusion: Discuss limitations and future directions, lessons learned, maybe things you did not predict to find out or things you learned as you performed the analysis"
   ]
  },
  {
   "cell_type": "code",
   "execution_count": null,
   "id": "8717769a",
   "metadata": {},
   "outputs": [],
   "source": []
  }
 ],
 "metadata": {
  "kernelspec": {
   "display_name": "Python 3 (ipykernel)",
   "language": "python",
   "name": "python3"
  },
  "language_info": {
   "codemirror_mode": {
    "name": "ipython",
    "version": 3
   },
   "file_extension": ".py",
   "mimetype": "text/x-python",
   "name": "python",
   "nbconvert_exporter": "python",
   "pygments_lexer": "ipython3",
   "version": "3.8.12"
  }
 },
 "nbformat": 4,
 "nbformat_minor": 5
}
